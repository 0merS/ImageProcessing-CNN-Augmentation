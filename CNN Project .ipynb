{
 "cells": [
  {
   "cell_type": "markdown",
   "id": "8fbebc98-9fcc-4b99-8a69-b197c1b064fd",
   "metadata": {},
   "source": [
    "# Resim Sınıflandırma ve Veri Manipülasyonu\n",
    "Bu projede, 10 farklı sınıfı içeren bir görüntü veri seti üzerinden, görüntü sınıflandırma modeli oluşturulacak. Ayrıca, veri manipülasyon teknikleri kullanarak modelin doğruluğu üzerinde farklı ışık koşulları, renk sabitliği gibi etkilerle performans testleri yapılacaktır.\n",
    "\n",
    "### Proje Adımları:\n",
    "1. **Veri Setini Yükleme:** Veri setinden resimler yüklenecek ve etiketlerle birlikte sınıflandırılacak.\n",
    "2. **Veri Artırma:** Eğitim verisi üzerinde veri artırma teknikleri (augmentation) uygulanarak modelin genelleme yeteneği artırılacak.\n",
    "3. **Modelin Tasarlanması:** Derin öğrenme tabanlı bir CNN modeli oluşturulacak.\n",
    "4. **Modelin Eğitilmesi:** Eğitim verisi kullanılarak model eğitilecek ve doğruluk ölçülecek.\n",
    "5. **Veri Manipülasyonu:** Veri üzerinde ışık manipülasyonu ve renk sabitliği teknikleri uygulanacak.\n",
    "6. **Sonuçların Karşılaştırılması:** Manipüle edilmiş ve orijinal verilerle yapılan testlerin sonuçları karşılaştırılacak.\n"
   ]
  },
  {
   "cell_type": "markdown",
   "id": "1ec54fd8-5bee-4a14-90b8-a34109770933",
   "metadata": {},
   "source": [
    "## Gerekli Kütüphanelerin Yüklenmesi\n",
    "Bu adımda, projemizin ihtiyaç duyduğu kütüphaneleri import edeceğiz. Bu kütüphaneler, veri işleme, model oluşturma, görselleştirme ve görüntü manipülasyonu işlemleri için gereklidir.\n",
    "\n",
    "- **os:** Dosya yollarını yönetmek için\n",
    "- **numpy:** Sayısal işlemler için\n",
    "- **PIL (Pillow):** Görüntü işleme için\n",
    "- **sklearn.model_selection:** Veri setini eğitim ve test olarak ayırmak için\n",
    "- **cv2 (OpenCV):** Görüntü manipülasyonu (parlaklık artırma vb.) için\n",
    "- **matplotlib:** Görselleştirme işlemleri için\n",
    "- **tensorflow.keras:** Derin öğrenme modeli oluşturmak ve eğitmek için\n"
   ]
  },
  {
   "cell_type": "code",
   "execution_count": null,
   "id": "80d04353-4077-4961-a32c-3a57b32b751e",
   "metadata": {},
   "outputs": [],
   "source": [
    "import os\n",
    "import numpy as np\n",
    "from PIL import Image\n",
    "from sklearn.model_selection import train_test_split\n",
    "import cv2\n",
    "import matplotlib.pyplot as plt\n",
    "from tensorflow.keras import layers, models\n",
    "from tensorflow.keras.preprocessing.image import ImageDataGenerator\n"
   ]
  },
  {
   "cell_type": "markdown",
   "id": "4b426892-7c0e-452c-b41d-26c20f8c9b8c",
   "metadata": {},
   "source": [
    "## Veri Setinin Yüklenmesi\n",
    "Bu adımda, resimlerimizi ve etiketlerini yükleyeceğiz. Resimler, `JPEGImages` klasöründe yer alıyor ve her biri 10 farklı sınıfa ait. Sınıflar şunlardır:\n",
    "\n",
    "- Collie\n",
    "- Dolphin\n",
    "- Elephant\n",
    "- Fox\n",
    "- Moose\n",
    "- Rabbit\n",
    "- Sheep\n",
    "- Squirrel\n",
    "- Giant Panda\n",
    "- Polar Bear\n",
    "\n",
    "Verileri yüklerken, her resmin boyutunu 128x128 piksel olarak ayarlayacağız ve değerlerini normalize edeceğiz (0-1 arasında olacak şekilde). Ayrıca, her sınıf için etiketleri de belirleyeceğiz.\n"
   ]
  },
  {
   "cell_type": "code",
   "execution_count": null,
   "id": "bc00e7e3-5d4a-4817-ac18-155434363b1f",
   "metadata": {},
   "outputs": [],
   "source": [
    "# Resimlerin bulunduğu ana dizini belirlemek\n",
    "image_dir = \"C:\\\\Users\\\\omers\\\\Desktop\\\\dataset\\\\JPEGImages\"\n",
    "\n",
    "# 10 sınıfın adlarını girmek\n",
    "classes = ['collie', 'dolphin', 'elephant', 'fox', 'moose', 'rabbit', 'sheep', 'squirrel', 'giant panda', 'polar bear']\n",
    "\n",
    "# Resimleri ve etiketlerini yüklemek\n",
    "def load_images(image_dir, classes, image_size=(128, 128)):\n",
    "    images = []\n",
    "    labels = []\n",
    "    \n",
    "    for label, class_name in enumerate(classes):\n",
    "        class_dir = os.path.join(image_dir, class_name)\n",
    "        for image_name in os.listdir(class_dir)[:650]:  # Her sınıftan 650 resim\n",
    "            image_path = os.path.join(class_dir, image_name)\n",
    "            image = Image.open(image_path)\n",
    "            image = image.resize(image_size)  # Resimleri aynı boyutta yap\n",
    "            image = np.array(image) / 255.0  # Resimleri normalize et\n",
    "            images.append(image)\n",
    "            labels.append(label)  # Etiketleri ekle\n",
    "    \n",
    "    return np.array(images), np.array(labels)\n",
    "\n",
    "# Veriyi yüklemek\n",
    "X, y = load_images(image_dir, classes)\n"
   ]
  },
  {
   "cell_type": "markdown",
   "id": "d5f11183-9bf1-4c1f-a507-97489b2a0d9f",
   "metadata": {},
   "source": [
    "## Eğitim ve Test Setlerine Ayırma\n",
    "Veri setini eğitim ve test setlerine ayıracağız. Test seti için verimizin %30'unu ayırarak, kalan %70'i ile modelimizi eğiteceğiz. Bu şekilde modelin doğruluğunu gerçek dünya verisiyle değerlendirebileceğiz.\n"
   ]
  },
  {
   "cell_type": "code",
   "execution_count": null,
   "id": "81ddafa4-459a-4c89-8a2f-19afaa00ec99",
   "metadata": {},
   "outputs": [],
   "source": [
    "# Eğitim ve test setlerini ayırmak\n",
    "X_train, X_test, y_train, y_test = train_test_split(X, y, test_size=0.3, random_state=42)\n",
    "\n",
    "# Eğitim ve test boyutlarını yazdırmak\n",
    "print(f\"Eğitim seti boyutu: {X_train.shape}\")\n",
    "print(f\"Test seti boyutu: {X_test.shape}\")\n"
   ]
  },
  {
   "cell_type": "markdown",
   "id": "6b457a4c-d6d7-43e7-b35a-a67bfc953407",
   "metadata": {},
   "source": [
    "## Veri Artırma (Augmentation)\n",
    "Veri artırma, modelin daha çeşitli ve genel sonuçlar vermesini sağlamak için kullanılır. Eğitim setinde çeşitli manipülasyonlar (dönme, kaydırma, zoom) uygulayarak modelin daha fazla örnekle eğitilmesini sağlarız. Bu sayede modelin overfitting (aşırı öğrenme) yapma ihtimali azalır.\n",
    "\n",
    "Uygulanan veri artırma işlemleri:\n",
    "- **Dönme (rotation)**: Resimleri rastgele döndürme\n",
    "- **Kaydırma (shift)**: Resimleri yatay veya dikey kaydırma\n",
    "- **Zoom**: Resimleri rastgele yakınlaştırma\n",
    "- **Yatay çevirme (horizontal flip)**: Resimleri tersine çevirme\n"
   ]
  },
  {
   "cell_type": "code",
   "execution_count": null,
   "id": "bfb22c40-b711-479a-bf91-7694701a0f2e",
   "metadata": {},
   "outputs": [],
   "source": [
    "# Eğitim verisi için veri artırma (augmentation) kullanmak\n",
    "datagen = ImageDataGenerator(\n",
    "    rotation_range=30,    # Resimleri döndürme\n",
    "    width_shift_range=0.2,  # Yatay kaydırma\n",
    "    height_shift_range=0.2, # Dikey kaydırma\n",
    "    shear_range=0.2,      # Kesme dönüşümü\n",
    "    zoom_range=0.2,       # Zoom\n",
    "    horizontal_flip=True, # Yatay çevirme\n",
    "    fill_mode='nearest'   # Boş bölgeleri doldurma\n",
    ")\n",
    "\n",
    "# Eğitim verisi için augmentation uygulamak\n",
    "datagen.fit(X_train)\n"
   ]
  },
  {
   "cell_type": "markdown",
   "id": "e33d05f2-24d5-4d37-9e70-abc2b37e7e68",
   "metadata": {},
   "source": [
    "## CNN Modelinin Tasarlanması\n",
    "Bu adımda, bir Konvolüsyonel Sinir Ağı (CNN) modeli oluşturacağız. CNN'ler, görüntü verileriyle çalışırken oldukça başarılıdır çünkü görüntülerdeki yerel özellikleri öğrenebilirler. Modelimizde şu katmanlar bulunacaktır:\n",
    "- **Konvolüsyonel katmanlar**: Görüntüden özellik çıkarımı yapacak\n",
    "- **MaxPooling katmanları**: Özellik haritalarını küçülterek hesaplama maliyetini azaltacak\n",
    "- **Fully Connected (Dense) katmanlar**: Sınıflandırma işlemini yapacak\n",
    "- **Dropout katmanı**: Overfitting'i önlemek için rastgele nöronları kapatacak\n"
   ]
  },
  {
   "cell_type": "code",
   "execution_count": null,
   "id": "124bfae8-d143-4cc0-af24-2fb9b072131e",
   "metadata": {},
   "outputs": [],
   "source": [
    "# Modeli oluşturmak\n",
    "model = models.Sequential()\n",
    "\n",
    "# Konvolüsyonel katmanlar\n",
    "model.add(layers.Conv2D(32, (3, 3), activation='relu', input_shape=(128, 128, 3)))\n",
    "model.add(layers.MaxPooling2D((2, 2)))\n",
    "\n",
    "model.add(layers.Conv2D(64, (3, 3), activation='relu'))\n",
    "model.add(layers.MaxPooling2D((2, 2)))\n",
    "\n",
    "model.add(layers.Conv2D(128, (3, 3), activation='relu'))\n",
    "model.add(layers.MaxPooling2D((2, 2)))\n",
    "\n",
    "# Fully connected (dense) katman\n",
    "model.add(layers.Flatten())\n",
    "model.add(layers.Dense(128, activation='relu'))\n",
    "model.add(layers.Dropout(0.5))  # Dropout ile overfitting'i engelle\n",
    "model.add(layers.Dense(len(classes), activation='softmax'))  # Son katman, 10 sınıf\n",
    "\n",
    "# Modeli derle\n",
    "model.compile(optimizer='adam', loss='sparse_categorical_crossentropy', metrics=['accuracy'])\n"
   ]
  },
  {
   "cell_type": "markdown",
   "id": "69bf871f-3a48-4e22-8e8a-d727dc846cb1",
   "metadata": {},
   "source": [
    "## Modelin Eğitilmesi\n",
    "Bu aşamada, modelimizi eğitim verisi ile 10 epoch boyunca eğiteceğiz. Her epoch sonunda, modelin doğruluğu test verisi üzerinde kontrol edilecek. Eğitim sırasında veri artırma işlemi uygulanarak modelin genelleme gücü artırılacaktır.\n"
   ]
  },
  {
   "cell_type": "code",
   "execution_count": null,
   "id": "948acb02-2562-4b0e-9735-903c838cc7d9",
   "metadata": {},
   "outputs": [],
   "source": [
    "# Modeli eğit\n",
    "history = model.fit(datagen.flow(X_train, y_train, batch_size=32), epochs=10, validation_data=(X_test, y_test))\n",
    "\n",
    "# Modeli test et\n",
    "test_loss, test_acc = model.evaluate(X_test, y_test)\n",
    "print(f\"Test seti doğruluğu: {test_acc * 100:.2f}%\")\n"
   ]
  },
  {
   "cell_type": "markdown",
   "id": "c6eaf063-3714-432c-9e3c-8f805f58a87a",
   "metadata": {},
   "source": [
    "## Resimlerin Farklı Işık Koşullarında Manipüle Edilmesi\n",
    "Veri artırma dışında, test setini manipüle ederek modelin farklı ışık koşullarında nasıl performans gösterdiğini test edeceğiz. Burada, parlaklık seviyelerini artıracağız."
   ]
  },
  {
   "cell_type": "code",
   "execution_count": null,
   "id": "a295a601-c3c6-45ee-9dd2-d3f0dc21824a",
   "metadata": {},
   "outputs": [],
   "source": [
    "# Resimleri farklı ışık koşullarında manipüle etme\n",
    "def get_manipulated_images(image):\n",
    "    # Resmi farklı ışık koşulları altında manipüle etme\n",
    "    image_brightness = cv2.convertScaleAbs(image, alpha=1.2, beta=50)  # Parlaklık artırma\n",
    "    return image_brightness\n"
   ]
  },
  {
   "cell_type": "markdown",
   "id": "b30cc376-1a9b-44a3-8eb5-45224765a7b1",
   "metadata": {},
   "source": [
    "## Manipüle Edilmiş Test Seti ile Modeli Denemek\n",
    "Manipüle edilmiş test verisi ile modelimizi test ediyoruz. Bu, modelimizin ışık koşullarına karşı dayanıklılığını ölçmemize yardımcı olacak."
   ]
  },
  {
   "cell_type": "code",
   "execution_count": null,
   "id": "198e9372-8c85-45b0-a759-0dc28eef78a7",
   "metadata": {},
   "outputs": [],
   "source": [
    "# Manipüle edilmiş test seti ile modeli test et\n",
    "X_test_manipulated = np.array([get_manipulated_images(img) for img in X_test])\n",
    "test_loss, test_acc = model.evaluate(X_test_manipulated, y_test)\n",
    "print(f\"Manipüle edilmiş test seti doğruluğu: {test_acc * 100:.2f}%\")\n"
   ]
  },
  {
   "cell_type": "markdown",
   "id": "c19537c6-ae16-44f3-88c3-d2ff56d2bb9b",
   "metadata": {},
   "source": [
    "## Renk Sabitliği Uygulama (Gray World Algoritması)\n",
    "Modelimizin renk dengesizliği konusunda daha dayanıklı olması için Gray World algoritmasını uygulayacağız. Bu algoritma, resimlerdeki renkleri sabitleyerek farklı ışık koşullarında daha tutarlı sonuçlar elde etmemizi sağlar."
   ]
  },
  {
   "cell_type": "code",
   "execution_count": null,
   "id": "2819c708-a15b-4324-83ed-4d61df16d4a5",
   "metadata": {},
   "outputs": [],
   "source": [
    "# Gray World algoritmasını kullanarak renk sabitliği\n",
    "def get_wb_images(image):\n",
    "    avg_r = np.mean(image[:, :, 0])\n",
    "    avg_g = np.mean(image[:, :, 1])\n",
    "    avg_b = np.mean(image[:, :, 2])\n",
    "    \n",
    "    avg = (avg_r + avg_g + avg_b) / 3\n",
    "    image[:, :, 0] = image[:, :, 0] * (avg / avg_r)  # Red channel\n",
    "    image[:, :, 1] = image[:, :, 1] * (avg / avg_g)  # Green channel\n",
    "    image[:, :, 2] = image[:, :, 2] * (avg / avg_b)  # Blue channel\n",
    "    \n",
    "    return np.clip(image, 0, 255).astype(np.uint8)\n"
   ]
  },
  {
   "cell_type": "markdown",
   "id": "4010dcd3-ccba-464c-98f2-d6e3df3f134c",
   "metadata": {},
   "source": [
    "##  Renk Sabitliği Uygulanmış Test Seti ile Denemek\n",
    "Son olarak, renk sabitliği uygulanmış test verileri ile modelimizi test edeceğiz. Bu işlem, renk dengesizlikleri karşısında modelin performansını ölçmek için önemlidir."
   ]
  },
  {
   "cell_type": "code",
   "execution_count": null,
   "id": "c0c36249-c62a-400e-904e-cefe957c61a4",
   "metadata": {},
   "outputs": [],
   "source": [
    "# Renk sabitliği uygulanmış test seti ile testi yap\n",
    "X_test_wb = np.array([get_wb_images(img) for img in X_test])\n",
    "test_loss, test_acc = model.evaluate(X_test_wb, y_test)\n",
    "print(f\"Renk sabitliği uygulanmış test seti doğruluğu: {test_acc * 100:.2f}%\")\n"
   ]
  },
  {
   "cell_type": "markdown",
   "id": "f221558d-3e45-4a2f-bf01-069edb0ae0e2",
   "metadata": {},
   "source": [
    "## Sonuçları Karşılaştırma\n",
    "Son olarak, modelimizin eğitim ve test doğruluklarını karşılaştırarak genel başarısını değerlendireceğiz."
   ]
  },
  {
   "cell_type": "code",
   "execution_count": null,
   "id": "0c612caf-ce56-4748-a137-22c942653233",
   "metadata": {},
   "outputs": [],
   "source": [
    "# Sonuçları karşılaştırma\n",
    "print(f\"Eğitim seti doğruluğu: {history.history['accuracy'][-1]*100:.2f}%\")\n",
    "print(f\"Test seti doğruluğu: {test_acc*100:.2f}%\")\n"
   ]
  }
 ],
 "metadata": {
  "kernelspec": {
   "display_name": "Python 3 (ipykernel)",
   "language": "python",
   "name": "python3"
  },
  "language_info": {
   "codemirror_mode": {
    "name": "ipython",
    "version": 3
   },
   "file_extension": ".py",
   "mimetype": "text/x-python",
   "name": "python",
   "nbconvert_exporter": "python",
   "pygments_lexer": "ipython3",
   "version": "3.11.9"
  }
 },
 "nbformat": 4,
 "nbformat_minor": 5
}
