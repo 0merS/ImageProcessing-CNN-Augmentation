{
 "cells": [
  {
   "cell_type": "markdown",
   "id": "714dd67f",
   "metadata": {},
   "source": [
    "# Yapay Zeka ile Görüntü Sınıflandırma Projesi\n",
    "Bu notebook, 10 farklı hayvan sınıfını sınıflandırmak için bir CNN modeli oluşturur ve çeşitli veri manipülasyon teknikleriyle dayanıklılığı test eder."
   ]
  },
  {
   "cell_type": "markdown",
   "id": "cd641967",
   "metadata": {},
   "source": [
    "## Gerekli Kütüphanelerin İmport Edilmesi"
   ]
  },
  {
   "cell_type": "code",
   "execution_count": null,
   "id": "41e81861",
   "metadata": {},
   "outputs": [],
   "source": [
    "import os\n",
    "import numpy as np\n",
    "from PIL import Image\n",
    "from sklearn.model_selection import train_test_split\n",
    "import cv2\n",
    "import matplotlib.pyplot as plt\n",
    "from tensorflow.keras import layers, models\n",
    "from tensorflow.keras.preprocessing.image import ImageDataGenerator"
   ]
  },
  {
   "cell_type": "markdown",
   "id": "174ab335",
   "metadata": {},
   "source": [
    "## 1. Veri Setinin Yüklenmesi ve Hazırlanması"
   ]
  },
  {
   "cell_type": "code",
   "execution_count": null,
   "id": "a5f997d5",
   "metadata": {},
   "outputs": [],
   "source": [
    "# Resimlerin bulunduğu ana dizini belirlemek\n",
    "image_dir = \"C:\\\\Users\\\\omers\\\\Desktop\\\\dataset\\\\JPEGImages\"\n",
    "\n",
    "# 10 sınıfın adlarını girmek\n",
    "classes = ['collie', 'dolphin', 'elephant', 'fox', 'moose', 'rabbit', 'sheep', 'squirrel', 'giant panda', 'polar bear']\n",
    "\n",
    "# Resimleri ve etiketlerini yüklemek\n",
    "def load_images(image_dir, classes, image_size=(128, 128)):\n",
    "    images = []\n",
    "    labels = []\n",
    "    for label, class_name in enumerate(classes):\n",
    "        class_dir = os.path.join(image_dir, class_name)\n",
    "        for image_name in os.listdir(class_dir)[:650]:\n",
    "            image_path = os.path.join(class_dir, image_name)\n",
    "            image = Image.open(image_path)\n",
    "            image = image.resize(image_size)\n",
    "            image = np.array(image) / 255.0\n",
    "            images.append(image)\n",
    "            labels.append(label)\n",
    "    return np.array(images), np.array(labels)\n",
    "\n",
    "# Veriyi yüklemek\n",
    "X, y = load_images(image_dir, classes)\n",
    "\n",
    "# Eğitimi ve test setlerini ayırmak\n",
    "X_train, X_test, y_train, y_test = train_test_split(X, y, test_size=0.3, random_state=42)\n",
    "\n",
    "print(f\"Eğitim seti boyutu: {X_train.shape}\")\n",
    "print(f\"Test seti boyutu: {X_test.shape}\")"
   ]
  },
  {
   "cell_type": "markdown",
   "id": "857d0228",
   "metadata": {},
   "source": [
    "## 2. Veri Artırma (Augmentation)"
   ]
  },
  {
   "cell_type": "code",
   "execution_count": null,
   "id": "139076b3",
   "metadata": {},
   "outputs": [],
   "source": [
    "# Eğitim verisi için veri artırma (augmentation) kullanmak\n",
    "datagen = ImageDataGenerator(\n",
    "    rotation_range=30,\n",
    "    width_shift_range=0.2,\n",
    "    height_shift_range=0.2,\n",
    "    shear_range=0.2,\n",
    "    zoom_range=0.2,\n",
    "    horizontal_flip=True,\n",
    "    fill_mode='nearest'\n",
    ")\n",
    "\n",
    "datagen.fit(X_train)"
   ]
  },
  {
   "cell_type": "markdown",
   "id": "307e6fb5",
   "metadata": {},
   "source": [
    "## 3. CNN Modelinin Tasarlanması ve Eğitilmesi"
   ]
  },
  {
   "cell_type": "code",
   "execution_count": null,
   "id": "2bd9d589",
   "metadata": {},
   "outputs": [],
   "source": [
    "# Modeli oluşturmak\n",
    "model = models.Sequential()\n",
    "model.add(layers.Conv2D(32, (3, 3), activation='relu', input_shape=(128, 128, 3)))\n",
    "model.add(layers.MaxPooling2D((2, 2)))\n",
    "\n",
    "model.add(layers.Conv2D(64, (3, 3), activation='relu'))\n",
    "model.add(layers.MaxPooling2D((2, 2)))\n",
    "\n",
    "model.add(layers.Conv2D(128, (3, 3), activation='relu'))\n",
    "model.add(layers.MaxPooling2D((2, 2)))\n",
    "\n",
    "model.add(layers.Flatten())\n",
    "model.add(layers.Dense(128, activation='relu'))\n",
    "model.add(layers.Dropout(0.5))\n",
    "model.add(layers.Dense(len(classes), activation='softmax'))\n",
    "\n",
    "model.compile(optimizer='adam', loss='sparse_categorical_crossentropy', metrics=['accuracy'])\n",
    "\n",
    "history = model.fit(datagen.flow(X_train, y_train, batch_size=32), epochs=10, validation_data=(X_test, y_test))"
   ]
  },
  {
   "cell_type": "markdown",
   "id": "b5396101",
   "metadata": {},
   "source": [
    "## 4. Model Performansını Test Etme"
   ]
  },
  {
   "cell_type": "code",
   "execution_count": null,
   "id": "57d252bd",
   "metadata": {},
   "outputs": [],
   "source": [
    "# Modeli test et\n",
    "test_loss, test_acc = model.evaluate(X_test, y_test)\n",
    "print(f\"Test seti doğruluğu: {test_acc * 100:.2f}%\")"
   ]
  },
  {
   "cell_type": "markdown",
   "id": "97a442f5",
   "metadata": {},
   "source": [
    "## 5. Manipüle Edilmiş Veri ile Test"
   ]
  },
  {
   "cell_type": "code",
   "execution_count": null,
   "id": "c188799a",
   "metadata": {},
   "outputs": [],
   "source": [
    "# Manipüle edilmiş test seti ile modeli test et\n",
    "def get_manipulated_images(image):\n",
    "    return cv2.convertScaleAbs(image, alpha=1.2, beta=50)\n",
    "\n",
    "X_test_manipulated = np.array([get_manipulated_images(img) for img in X_test])\n",
    "test_loss, test_acc = model.evaluate(X_test_manipulated, y_test)\n",
    "print(f\"Manipüle edilmiş test seti doğruluğu: {test_acc * 100:.2f}%\")"
   ]
  }
 ],
 "metadata": {
  "language_info": {
   "name": "python"
  }
 },
 "nbformat": 4,
 "nbformat_minor": 5
}
